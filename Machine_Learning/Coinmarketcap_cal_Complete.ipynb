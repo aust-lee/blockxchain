{
 "cells": [
  {
   "cell_type": "markdown",
   "metadata": {},
   "source": [
    "## This notebook pulls pricing information from Coinmarketcap $$$ "
   ]
  },
  {
   "cell_type": "markdown",
   "metadata": {},
   "source": [
    "### Data will consist of information from ranks, coins, stats, new coins, trends, and events"
   ]
  },
  {
   "cell_type": "code",
   "execution_count": 42,
   "metadata": {},
   "outputs": [],
   "source": [
    "from pymarketcap import Pymarketcap\n",
    "import re\n",
    "import json\n",
    "import pprint\n",
    "import pandas as pd\n",
    "import requests\n",
    "from datetime import datetime, timedelta \n",
    "from bs4 import BeautifulSoup\n",
    "import urllib3\n",
    "import time\n",
    "import logging\n",
    "import numpy as np\n",
    "from apscheduler.schedulers.blocking import BlockingScheduler\n",
    "import re\n",
    "import urllib.request\n",
    "import numpy as np\n",
    "pd.options.display.float_format = '{:20,.2f}'.format"
   ]
  },
  {
   "cell_type": "markdown",
   "metadata": {},
   "source": [
    "##### Defines a function that allows for replacement for new coin date added"
   ]
  },
  {
   "cell_type": "code",
   "execution_count": 43,
   "metadata": {},
   "outputs": [],
   "source": [
    "def setdate(x):\n",
    "    if len(x) == 5 or len(x) == 7:\n",
    "        return datetime.today().strftime(\"%m/%d/%Y\")\n",
    "    elif len(x) == 8:\n",
    "        newDate = datetime.today() - timedelta(days=int(x[:1]))\n",
    "        return newDate.strftime(\"%m/%d/%Y\")\n",
    "    else:\n",
    "        newDate = datetime.today() - timedelta(days=int(x[:2]))\n",
    "        return newDate.strftime(\"%m/%d/%Y\")"
   ]
  },
  {
   "cell_type": "markdown",
   "metadata": {},
   "source": [
    "###### Sets variable coinmarketcap with Pymarketcap API/Scraper "
   ]
  },
  {
   "cell_type": "code",
   "execution_count": 44,
   "metadata": {},
   "outputs": [],
   "source": [
    "from pymarketcap import Pymarketcap\n",
    "coinmarketcap = Pymarketcap()\n",
    "symbols = coinmarketcap.symbols"
   ]
  },
  {
   "cell_type": "markdown",
   "metadata": {},
   "source": [
    "###### Set initial Date/Time.. Will be setting throughout "
   ]
  },
  {
   "cell_type": "code",
   "execution_count": 45,
   "metadata": {},
   "outputs": [],
   "source": [
    "#Pulls date and time information\n",
    "moment=time.strftime(\"%Y-%b-%d__%H_%M_%S\",time.localtime())\n",
    "today = pd.Timestamp(\"today\").strftime(\"%m/%d/%Y\")\n",
    "hh = pd.Timestamp(\"today\").strftime(\"%H\")\n",
    "mm = pd.Timestamp(\"today\").strftime(\"%M\")"
   ]
  },
  {
   "cell_type": "markdown",
   "metadata": {},
   "source": [
    "###### Coinmarketcap statistics - up to date 1/14/2018"
   ]
  },
  {
   "cell_type": "code",
   "execution_count": 47,
   "metadata": {},
   "outputs": [
    {
     "name": "stdout",
     "output_type": "stream",
     "text": [
      "Look at all those stats 0.o\n"
     ]
    }
   ],
   "source": [
    "try:\n",
    "    stats = coinmarketcap.stats()\n",
    "    stats = pd.DataFrame(stats, index=[0])\n",
    "    \n",
    "    stats['Date'] = today\n",
    "    stats['Hour'] = hh\n",
    "    stats['Minute'] = mm\n",
    "    stats['Now'] = pd.Timestamp(\"today\")\n",
    "    \n",
    "    stats.to_csv('Coinmarketcap/boom/stats/stats_'+moment+'.csv', sep=',') \n",
    "    print(\"Look at all those stats 0.o\")\n",
    "except:\n",
    "    print(\"*NO STATS GATHERED*\")"
   ]
  },
  {
   "cell_type": "markdown",
   "metadata": {},
   "source": [
    "###### Coin Data - Updated 1/14/2018"
   ]
  },
  {
   "cell_type": "code",
   "execution_count": 49,
   "metadata": {},
   "outputs": [
    {
     "name": "stdout",
     "output_type": "stream",
     "text": [
      "Chaaaa-CHING! The coin data is in\n"
     ]
    }
   ],
   "source": [
    "try:\n",
    "    from pymarketcap import Pymarketcap\n",
    "    coinmarketcap = Pymarketcap()\n",
    "    ticker = coinmarketcap.ticker(limit=1500)\n",
    "    ticker = pd.DataFrame(ticker)\n",
    "\n",
    "    ticker['Date'] = today\n",
    "    ticker['Hour'] = hh\n",
    "    ticker['Minute'] = mm\n",
    "    ticker['Now'] = pd.Timestamp(\"today\")\n",
    "\n",
    "    ticker.to_csv('Coinmarketcap/boom/coins/coins_'+moment+'.csv', sep=',')  \n",
    "    print(\"Chaaaa-CHING! The coin data is in\")\n",
    "except:\n",
    "    print(\"*NO COINS GATHERED* *YOU ARE LOSING OUT ON BAGS*\")"
   ]
  },
  {
   "cell_type": "markdown",
   "metadata": {},
   "source": [
    "###### Coin exchange info for each token - Updated 1/14/2018"
   ]
  },
  {
   "cell_type": "code",
   "execution_count": null,
   "metadata": {},
   "outputs": [],
   "source": [
    "for coin2 in symbols:\n",
    "    try:\n",
    "        from pymarketcap import Pymarketcap\n",
    "        coinmarketcap = Pymarketcap()\n",
    "        markets = coinmarketcap.markets(coin2)\n",
    "        markets = pd.DataFrame(markets['markets'])\n",
    "\n",
    "        markets['Date'] = today\n",
    "        markets['Hour'] = hh\n",
    "        markets['Minute'] = mm\n",
    "        markets['Now'] = pd.Timestamp(\"today\")\n",
    "        \n",
    "        markets.to_csv('Coinmarketcap/boom/markets/markets_'+coin2+'_'+moment+'.csv', sep=',') \n",
    "    except:\n",
    "        print(\"No market data was captured for \", coin2)\n",
    "        pass\n",
    "print(\"I hear the exchange trades from here.. exchange data collected :)\")"
   ]
  },
  {
   "cell_type": "markdown",
   "metadata": {},
   "source": [
    "###### Gainers and Losers (1h, 24h, 7d) - Updated 1/14/2018"
   ]
  },
  {
   "cell_type": "markdown",
   "metadata": {},
   "source": [
    "###### ******Currently no 7d Gainers being captured******"
   ]
  },
  {
   "cell_type": "code",
   "execution_count": 97,
   "metadata": {},
   "outputs": [],
   "source": []
  },
  {
   "cell_type": "code",
   "execution_count": null,
   "metadata": {},
   "outputs": [],
   "source": []
  },
  {
   "cell_type": "markdown",
   "metadata": {},
   "source": [
    "###### New coins - Updated 1/14/2018"
   ]
  },
  {
   "cell_type": "code",
   "execution_count": 102,
   "metadata": {
    "scrolled": true
   },
   "outputs": [
    {
     "name": "stdout",
     "output_type": "stream",
     "text": [
      "Market info for new coin LNC  captured!\n",
      "Market info for new coin PHI  captured!\n",
      "Market info for new coin DOCK  captured!\n",
      "Market info for new coin MSR  captured!\n",
      "Market info for new coin CHX  captured!\n",
      "Market info for new coin SRCOIN  captured!\n",
      "Market info for new coin CROP  captured!\n",
      "************ERROR COIN PXC DATA NOT CAPUTRED*************\n",
      "Market info for new coin MRK  captured!\n",
      "Market info for new coin EARTH  captured!\n",
      "Market info for new coin FTX  captured!\n",
      "Market info for new coin EFX  captured!\n",
      "Market info for new coin DERO  captured!\n",
      "************ERROR COIN CRC DATA NOT CAPUTRED*************\n",
      "Market info for new coin KST  captured!\n",
      "Market info for new coin XHV  captured!\n",
      "Market info for new coin ADI  captured!\n",
      "Market info for new coin DIG  captured!\n",
      "Market info for new coin MFG  captured!\n",
      "Market info for new coin BRM  captured!\n",
      "Market info for new coin DAN  captured!\n",
      "Market info for new coin XMC  captured!\n",
      "Market info for new coin BUBO  captured!\n",
      "Market info for new coin AUC  captured!\n",
      "Market info for new coin GRMD  captured!\n",
      "Market info for new coin BBI  captured!\n",
      "Market info for new coin XMO  captured!\n",
      "Market info for new coin CVH  captured!\n",
      "Market info for new coin CBT  captured!\n",
      "Market info for new coin DEV  captured!\n",
      "Market info for new coin BSM  captured!\n",
      "Market info for new coin SNIP  captured!\n",
      "Market info for new coin ADH  captured!\n",
      "Market info for new coin UUU  captured!\n",
      "Market info for new coin EOSDAC  captured!\n",
      "Market info for new coin SENT  captured!\n",
      "Market info for new coin CVT  captured!\n",
      "Market info for new coin CPX  captured!\n",
      "Market info for new coin WIN  captured!\n",
      "Market info for new coin ATC  captured!\n",
      "Market info for new coin CTXC  captured!\n",
      "************ERROR COIN FID DATA NOT CAPUTRED*************\n",
      "Market info for new coin TDS  captured!\n",
      "Market info for new coin XDCE  captured!\n",
      "Market info for new coin XSN  captured!\n",
      "Market info for new coin ODE  captured!\n",
      "Market info for new coin NCT  captured!\n",
      "Market info for new coin XTL  captured!\n",
      "Market info for new coin BERRY  captured!\n",
      "Market info for new coin TPAY  captured!\n",
      "Market info for new coin FDZ  captured!\n",
      "Market info for new coin VIT  captured!\n",
      "Market info for new coin SENC  captured!\n",
      "Market info for new coin CLR  captured!\n",
      "Market info for new coin SEN  captured!\n",
      "Gotta catch all the new coins!\n"
     ]
    }
   ],
   "source": [
    "#Set date and time\n",
    "today = pd.Timestamp(\"today\").strftime(\"%m/%d/%Y\")\n",
    "hh = pd.Timestamp(\"today\").strftime(\"%H\")\n",
    "mm = pd.Timestamp(\"today\").strftime(\"%M\")\n",
    "moment=time.strftime(\"%Y-%b-%d__%H_%M_%S\",time.localtime())\n",
    "\n",
    "data = coinmarketcap.recently()\n",
    "data = pd.DataFrame(data)\n",
    "\n",
    "data.head()\n",
    "\n",
    "data['Date'] = today\n",
    "data['Hour'] = hh\n",
    "data['Minute'] = mm \n",
    "data['days_ago']= data['added'].str.extract('(\\d.)', expand=True)\n",
    "data['Now'] = pd.Timestamp(\"today\")\n",
    "data['days_ago'] = data['days_ago'].apply(pd.to_numeric)\n",
    "data['Date_Added'] = data['Now'] - pd.to_timedelta(data['days_ago'], unit='d')\n",
    "data['Date_Added'] = data['Date_Added'].dt.date\n",
    "\n",
    "#Reimport due to naming issues\n",
    "from pymarketcap import Pymarketcap\n",
    "coinmarketcap = Pymarketcap()\n",
    "\n",
    "\n",
    "#Get Market date for new coins\n",
    "for coin2 in data[\"symbol\"]:\n",
    "    try:\n",
    "        markets = coinmarketcap.markets(coin2)\n",
    "        markets = pd.DataFrame(markets['markets'])\n",
    "\n",
    "\n",
    "        #add 'Today' 'Hour' and 'minutes' column\n",
    "        markets['Date'] = today\n",
    "        markets['Hour'] = hh\n",
    "        markets['Minute'] = mm\n",
    "        markets['Now'] = pd.Timestamp(\"today\")\n",
    "\n",
    "        #Save CSV\n",
    "        markets.to_csv('Coinmarketcap/boom/markets/new/markerts_'+coin2+'_'+moment+'.csv', sep=',') \n",
    "        print(\"Market info for new coin\", coin2,\" captured!\")\n",
    "    except:\n",
    "        print(\"************ERROR COIN\", coin2, \"DATA NOT CAPUTRED*************\")\n",
    "        pass\n",
    "        \n",
    "        \n",
    "    ###Upload datafile\n",
    "\n",
    "    \n",
    "data.to_csv('Coinmarketcap/boom/new/new_'+moment+'.csv', sep=',') \n",
    "print(\"Gotta catch all the new coins!\")"
   ]
  },
  {
   "cell_type": "markdown",
   "metadata": {},
   "source": [
    "###### Exchange Data"
   ]
  },
  {
   "cell_type": "code",
   "execution_count": null,
   "metadata": {},
   "outputs": [],
   "source": [
    "try:\n",
    "    exchanges = coinmarketcap.exchanges(limit=200)\n",
    "    exchanges = pd.DataFrame(exchanges)\n",
    "\n",
    "    exchanges['Date'] = today\n",
    "    exchanges['Hour'] = hh\n",
    "    exchanges['Minute'] = mm\n",
    "    exchanges['Now'] = pd.Timestamp(\"today\")\n",
    "    del exchanges['markets']\n",
    "\n",
    "    exchanges.to_csv('Coinmarketcap/exchanges/exchanges_'+moment+'.csv', sep=',')  \n",
    "    print(\"Exchange data collected!\")\n",
    "except:\n",
    "    print(\"TETHER!!! ITS A LIE!!! EXCHANGE DATA WASN'T COLLECTED AND IT IS ALL GOING TO 0!!!!\")\n",
    "\n",
    "         \n",
    "for exchange in exchanges['name']:\n",
    "    try:\n",
    "        exchange_data = coinmarketcap.exchange(exchange)\n",
    "        exchange_data = pd.DataFrame(exchange_data)\n",
    "        \n",
    "        exchange_data['Date'] = today\n",
    "        exchange_data['Hour'] = hh\n",
    "        exchange_data['Minute'] = mm\n",
    "        exchange_data['Now'] = pd.Timestamp(\"today\")\n",
    "          \n",
    "        exchanges.to_csv('Coinmarketcap/exchanges/exchange_data_'+exchange+'_'+moment+'.csv', sep=',') \n",
    "    except:\n",
    "          print(\"No exchange data was collected for \", exchange)\n",
    "          pass\n",
    "print(\"Look at all those listings on exchagnes :)\")\n",
    "    \n",
    "    \n",
    "    \n"
   ]
  },
  {
   "cell_type": "code",
   "execution_count": null,
   "metadata": {},
   "outputs": [],
   "source": [
    "exchanges"
   ]
  },
  {
   "cell_type": "code",
   "execution_count": null,
   "metadata": {},
   "outputs": [],
   "source": [
    "for i in range(1,10):\n",
    "    print(i)"
   ]
  },
  {
   "cell_type": "code",
   "execution_count": null,
   "metadata": {
    "scrolled": false
   },
   "outputs": [],
   "source": [
    "from pymarketcap import Pymarketcap\n",
    "import re\n",
    "import json\n",
    "import pprint\n",
    "import pandas as pd\n",
    "import requests\n",
    "from datetime import datetime, timedelta \n",
    "from bs4 import BeautifulSoup\n",
    "import urllib3\n",
    "import time\n",
    "import logging\n",
    "import numpy as np\n",
    "from apscheduler.schedulers.blocking import BlockingScheduler\n",
    "import re\n",
    "import urllib.request\n",
    "import numpy as np\n",
    "pd.options.display.float_format = '{:20,.2f}'.format\n",
    "\n",
    "x = 0\n",
    "y = 0\n",
    "\n",
    "df = pd.read_csv('Coinmarketcap/CoinCal/Events.csv', index_col=False, header=0);\n",
    "df = pd.DataFrame(df)\n",
    "sheet = []\n",
    "for page in range(1,200):\n",
    "    try:\n",
    "        for link in links:\n",
    "                print(\"Coinmarketcal page \"+str(page)+\" in progress...\")\n",
    "                text = urllib.request.urlopen('https://coinmarketcal.com/?page='+str(page)).read().decode()\n",
    "                moment=time.strftime(\"%Y-%b-%d__%H_%M_%S\",time.localtime())\n",
    "\n",
    "\n",
    "                coins = re.findall('(?<=data-coin=\").+(?<=\\))',text)\n",
    "\n",
    "                symbol = []\n",
    "                dates = re.findall('(?<=data-date=\").+(?=\" d)',text)\n",
    "                event = re.findall('(?<=data-title=\").+(?=\"><i)',text)\n",
    "                date_added = re.findall('(?<=<p class=\"added-date\">\\(Added ).+(?=\\)</p>)',text)\n",
    "                certainty = re.findall('(?<=aria-valuenow=\").+?(?=\" role)', text)\n",
    "                for token in coins:\n",
    "                    start = token.find( '(' )\n",
    "                    end = token.find( ')' )\n",
    "                    if start != -1 and end != -1:\n",
    "                        symbol.append(token[start+1:end])\n",
    "\n",
    "                for i in range(len(coins)):\n",
    "                    if ((df['Symbol'] == str(symbol[i])) & (df['Overview'] == str(event[i]))).any():\n",
    "                        x += 1\n",
    "                        if ((df['Symbol'] == str(symbol[i])) & (df['Overview'] == str(event[i])) & (df['Certainty'] != float(certainty[i]))).any():\n",
    "                            df.loc[((df['Symbol'] == str(symbol[i])) & (df['Overview'] == str(event[i]))), \"Certainty\"] = certainty[i]\n",
    "                    else:\n",
    "                        sheet.append([str(coins[i]),str(symbol[i]), str(dates[i]),  str(event[i]), float(certainty[i]), str(date_added[i])])\n",
    "                        y += 1\n",
    "                        \n",
    "    except:\n",
    "        break\n",
    "\n",
    "\n",
    "z = x+y\n",
    "if sheet:\n",
    "    data = pd.DataFrame(sheet, columns = [\"Name\",\"Symbol\", \"Date\", \"Overview\",\"Certainty\",\"date_added\"])\n",
    "    new_df = df.append(data)\n",
    "    new_df.to_csv('Coinmarketcap/CoinCal/Events.csv', header=True, sep=',', index = FALSE) \n",
    "print(\"Coinmarketcal Complete. \" + str(y) + \" of \" + str(z) + \" added\")\n",
    " "
   ]
  },
  {
   "cell_type": "code",
   "execution_count": null,
   "metadata": {},
   "outputs": [],
   "source": []
  },
  {
   "cell_type": "code",
   "execution_count": null,
   "metadata": {
    "scrolled": true
   },
   "outputs": [],
   "source": [
    "sheet = []\n",
    "for page in range(1,200):\n",
    "    try:\n",
    "        for link in links:\n",
    "                print(\"Coinmarketcal page \"+str(page)+\" in progress...\")\n",
    "                text = urllib.request.urlopen('https://coinmarketcal.com/pastevents?page='+str(page)).read().decode()\n",
    "                moment=time.strftime(\"%Y-%b-%d__%H_%M_%S\",time.localtime())\n",
    "\n",
    "\n",
    "                coins = re.findall('(?<=data-coin=\").+(?<=\\))',text)\n",
    "\n",
    "                symbol = []\n",
    "                dates = re.findall('(?<=data-date=\").+(?=\" d)',text)\n",
    "                event = re.findall('(?<=data-title=\").+(?=\"><i)',text)\n",
    "                date_added = re.findall('(?<=<p class=\"added-date\">\\(Added ).+(?=\\)</p>)',text)\n",
    "                certainty = re.findall('(?<=aria-valuenow=\").+?(?=\" role)', text)\n",
    "                for token in coins:\n",
    "                    start = token.find( '(' )\n",
    "                    end = token.find( ')' )\n",
    "                    if start != -1 and end != -1:\n",
    "                        symbol.append(token[start+1:end])\n",
    "\n",
    "                for i in range(len(coins)):\n",
    "                        sheet.append([str(coins[i]),str(symbol[i]), str(dates[i]),  str(event[i]), float(certainty[i]), str(date_added[i])])\n",
    "\n",
    "    except:\n",
    "        break\n",
    "\n",
    "\n",
    "\n",
    "data = pd.DataFrame(sheet, columns = [\"Name\",\"Symbol\", \"Date\", \"Overview\",\"Certainty\",\"date_added\"])\n",
    "data.to_csv('Coinmarketcap/CoinCal/PastEvents.csv', header=True, sep=',') \n",
    "print(\"Coinmarketcal Complete\")\n"
   ]
  },
  {
   "cell_type": "markdown",
   "metadata": {},
   "source": [
    "##### Past events"
   ]
  },
  {
   "cell_type": "code",
   "execution_count": null,
   "metadata": {},
   "outputs": [],
   "source": [
    "import re\n",
    "import urllib.request\n",
    "import pandas as pd\n",
    "import numpy as np\n",
    "\n",
    "exchangesURL = 'https://coinmarketcal.com/pastevents?page=1'\n",
    "\n",
    "allEvents = []\n",
    "allDescription = []\n",
    "text = urllib.request.urlopen(exchangesURL).read().decode()\n",
    "coins = re.findall('(?<=<h5><strong>).+(?=</strong>)', text)\n",
    "descriptions = re.findall('(?<=<h5>).+(?=\\n                            <span>)', text, re.DOTALL)\n",
    "#allEvents += coins\n",
    "#allDescription += descriptions\n",
    "#return allEvents\n",
    "\n",
    "\n",
    "\n",
    "for i in range(len(coins)):\n",
    "    if i % 2 == 0:\n",
    "        dates.append(coins[i])\n",
    "    else:\n",
    "        tokens.append(coins[i])\n",
    "eventDates = []\n",
    "for i in range(len(dates)):\n",
    "    if i % 2 == 0:\n",
    "        eventDates.append(dates[i])\n",
    "\n",
    "len(descriptions)"
   ]
  },
  {
   "cell_type": "code",
   "execution_count": null,
   "metadata": {},
   "outputs": [],
   "source": [
    "text"
   ]
  },
  {
   "cell_type": "code",
   "execution_count": null,
   "metadata": {},
   "outputs": [],
   "source": [
    "descriptions"
   ]
  },
  {
   "cell_type": "code",
   "execution_count": null,
   "metadata": {},
   "outputs": [],
   "source": [
    "today = pd.Timestamp(\"today\").strftime(\"%m/%d/%Y\")\n",
    "hh = pd.Timestamp(\"today\").strftime(\"%H\")\n",
    "mm = pd.Timestamp(\"today\").strftime(\"%M\")\n",
    "\n",
    "for link in links:\n",
    "    \n",
    "    text = urllib.request.urlopen('http://coinmarketcal.com/').read().decode()\n",
    "    moment=time.strftime(\"%Y-%b-%d__%H_%M_%S\",time.localtime())\n",
    "\n",
    "    sheet = []\n",
    "    coins = re.findall('(?<=<h5><strong>).+(?=</strong>)',text)\n",
    "    dates = []\n",
    "    tokens = []\n",
    "\n",
    "    i = 0\n",
    "\n",
    "    for i in range(len(coins)):\n",
    "        if i % 2 == 0:\n",
    "            dates.append(coins[i])\n",
    "        else:\n",
    "            tokens.append(coins[i])\n",
    "    eventDates = []\n",
    "    for i in range(len(dates)):\n",
    "        if i % 2 == 0:\n",
    "            eventDates.append(dates[i])\n",
    "\n",
    "    symbol = []\n",
    "    event = re.findall('(?<=h5>).+(?=\\n                                                            )',text)\n",
    "    description = re.findall('(?<=p class=\"description\">).+?(?=</p>)',text, re.DOTALL)\n",
    "    certainty = re.findall('(?<=aria-valuenow=\").+?(?=\" role)', text)\n",
    "    for token in tokens:\n",
    "        start = token.find( '(' )\n",
    "        end = token.find( ')' )\n",
    "        if start != -1 and end != -1:\n",
    "            symbol.append(token[start+1:end])\n",
    "\n",
    "    print(\"Coinmarketcal in progress...\")\n",
    "\n",
    "    parts = [coin.split() for coin in coins]\n",
    "    for i in range(len(tokens)):\n",
    "        if 'By' not in dates[i]:\n",
    "            sheet.append([str(tokens[i]),str(symbol[i]), str(dates[i]), float(certainty[i]), str(event[i]), str(description[i])])\n",
    "            print(sheet)\n",
    "        else:\n",
    "            sheet.append([str(tokens[i]),str(symbol[i]), str(dates[i][3:]), float(certainty[int(i)]), str(event[i]), str(description[i])])\n",
    "            print(sheet)\n",
    "\n",
    "\n",
    "\n",
    "    data = pd.DataFrame(sheet, columns = [\"Name\",\"Symbol\", \"Event\", \"Confidience\",\"Title\",\"Description\"])\n",
    "\n",
    "\n",
    "\n",
    "    data['Date'] = today\n",
    "    data['Hour'] = hh\n",
    "    data['Minute'] = mm\n",
    "    markets['Now'] = pd.Timestamp(\"today\")\n",
    "    data.to_csv('Coinmarketcap/CoinCal/CC_'+moment+'.csv', header=True, sep=',') \n",
    "    print(\"Coinmarketcal Complete\")\n"
   ]
  },
  {
   "cell_type": "code",
   "execution_count": null,
   "metadata": {},
   "outputs": [],
   "source": [
    "2+2"
   ]
  },
  {
   "cell_type": "code",
   "execution_count": null,
   "metadata": {},
   "outputs": [],
   "source": []
  },
  {
   "cell_type": "code",
   "execution_count": null,
   "metadata": {},
   "outputs": [],
   "source": []
  },
  {
   "cell_type": "code",
   "execution_count": null,
   "metadata": {},
   "outputs": [],
   "source": []
  },
  {
   "cell_type": "code",
   "execution_count": null,
   "metadata": {},
   "outputs": [],
   "source": []
  },
  {
   "cell_type": "code",
   "execution_count": null,
   "metadata": {},
   "outputs": [],
   "source": []
  }
 ],
 "metadata": {
  "kernelspec": {
   "display_name": "Python 3",
   "language": "python",
   "name": "python3"
  },
  "language_info": {
   "codemirror_mode": {
    "name": "ipython",
    "version": 3
   },
   "file_extension": ".py",
   "mimetype": "text/x-python",
   "name": "python",
   "nbconvert_exporter": "python",
   "pygments_lexer": "ipython3",
   "version": "3.6.3"
  }
 },
 "nbformat": 4,
 "nbformat_minor": 2
}
