{
 "cells": [
  {
   "cell_type": "markdown",
   "metadata": {},
   "source": [
    "### Set up"
   ]
  },
  {
   "cell_type": "code",
   "execution_count": null,
   "metadata": {
    "collapsed": false
   },
   "outputs": [],
   "source": [
    "from pymarketcap import *  \n",
    "import json\n",
    "import pprint\n",
    "import pandas as pd\n",
    "from datetime import datetime, timedelta \n",
    "from bs4 import BeautifulSoup\n",
    "import urllib\n",
    "import time\n",
    "from apscheduler.schedulers.blocking import BlockingScheduler\n",
    "\n",
    "\n",
    "def setdate(x):\n",
    "    if len(x) == 5 or len(x) == 7:\n",
    "        return datetime.today().strftime(\"%m/%d/%Y\")\n",
    "    elif len(x) == 8:\n",
    "        newDate = datetime.today() - timedelta(days=int(x[:1]))\n",
    "        return newDate.strftime(\"%m/%d/%Y\")\n",
    "    else:\n",
    "        newDate = datetime.today() - timedelta(days=int(x[:2]))\n",
    "        return newDate.strftime(\"%m/%d/%Y\")"
   ]
  },
  {
   "cell_type": "markdown",
   "metadata": {},
   "source": [
    "### Market Stats"
   ]
  },
  {
   "cell_type": "code",
   "execution_count": null,
   "metadata": {
    "collapsed": false
   },
   "outputs": [],
   "source": [
    "def grab_info():\n",
    "\n",
    "    moment=time.strftime(\"%Y-%b-%d__%H_%M_%S\",time.localtime())\n",
    "\n",
    "    coinmarketcap = Pymarketcap()\n",
    "\n",
    "    #Stats for coinmarketcap\n",
    "    stats = coinmarketcap.stats(VERBOSE=True)\n",
    "\n",
    "    #Nothing in Ticker brings in all coin data\n",
    "    #coinmarketcap.ticker('STEEM')\n",
    "    #coinmarketcap.ticker('IFT')\n",
    "    coins = coinmarketcap.ticker(VERBOSE=True)\n",
    "\n",
    "    #Exchange information for a particular coin\n",
    "    #Each coin will also variable\n",
    "    markets = coinmarketcap.markets('STEEM',VERBOSE=True)\n",
    "    market1coin = 'STEEM'\n",
    "\n",
    "    #You can pass '7d', '24h', '1h', 'gainers' and 'losers' for filter responses:\n",
    "    #coinmarketcap.ranks('gainers', '1h', V=True)\n",
    "    ranks = coinmarketcap.ranks(V=True)\n",
    "\n",
    "    #Writing all files\n",
    "    with open('coins'+moment+'.txt', 'w') as outfile:\n",
    "        json.dump(coins, outfile)\n",
    "    with open('stats'+moment+'.txt', 'w') as outfile:\n",
    "        json.dump(stats, outfile)   \n",
    "    with open('markets'+market1coin+moment+'.txt', 'w') as outfile:\n",
    "        json.dump(markets, outfile) \n",
    "    with open('ranks'+moment+'.txt', 'w') as outfile:\n",
    "        json.dump(ranks, outfile)  \n",
    "grab_info()"
   ]
  },
  {
   "cell_type": "markdown",
   "metadata": {
    "collapsed": false
   },
   "source": [
    "### New coins"
   ]
  },
  {
   "cell_type": "code",
   "execution_count": null,
   "metadata": {
    "collapsed": false
   },
   "outputs": [],
   "source": [
    "#Grabs new coins from coinmarket cap and saves as CSV\n",
    "\n",
    "def new_coin(): \n",
    "    r = urllib.urlopen('http://coinmarketcap.com/new/').read()\n",
    "    soup = BeautifulSoup(r, \"lxml\")\n",
    "    col = soup.find('tr').find_all('td')\n",
    "    for c in col:\n",
    "        print(c.get_text())\n",
    "    final_list = []\n",
    "    tr = soup.findChildren('tr') \n",
    "    final_list = []\n",
    "    for t in tr:  \n",
    "        td = t.findChildren('td')  \n",
    "        coin_list = []\n",
    "        for child in td:\n",
    "            coin_list.append(child.text.replace('\\n', '').strip().replace(\" \", \"\"))\n",
    "        if coin_list != []:\n",
    "            final_list.append(coin_list)\n",
    "\n",
    "    data = pd.DataFrame(final_list, columns = [\"Name\",\"Symbol\", \"Added\", \"Market Cap\",\"Price\",\"Circulating Supply\",\"Volume (24h)\", \"% 24h\"])        \n",
    "    data[\"Added\"] = data[\"Added\"].apply(lambda x: setdate(x))\n",
    "    data.to_csv('new'+moment+'.csv', sep=',')  \n",
    "new_coin()"
   ]
  },
  {
   "cell_type": "markdown",
   "metadata": {
    "collapsed": false
   },
   "source": [
    "### Run block scheduler    "
   ]
  },
  {
   "cell_type": "code",
   "execution_count": null,
   "metadata": {
    "collapsed": false
   },
   "outputs": [],
   "source": [
    "scheduler = BlockingScheduler()\n",
    "scheduler.add_job(new_coin, 'interval', hours=1)\n",
    "scheduler.add_job(grab_info, 'interval', hours=1)\n",
    "scheduler.start()"
   ]
  }
 ],
 "metadata": {
  "anaconda-cloud": {},
  "kernelspec": {
   "display_name": "Python [conda root]",
   "language": "python",
   "name": "conda-root-py"
  },
  "language_info": {
   "codemirror_mode": {
    "name": "ipython",
    "version": 2
   },
   "file_extension": ".py",
   "mimetype": "text/x-python",
   "name": "python",
   "nbconvert_exporter": "python",
   "pygments_lexer": "ipython2",
   "version": "2.7.13"
  }
 },
 "nbformat": 4,
 "nbformat_minor": 2
}
