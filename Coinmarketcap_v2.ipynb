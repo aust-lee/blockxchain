{
 "cells": [
  {
   "cell_type": "markdown",
   "metadata": {
    "collapsed": true
   },
   "source": [
    "##### This is where I will be brining in Coinmarketcap.com data for ranks, coins, stats, new coins, and trends"
   ]
  },
  {
   "cell_type": "markdown",
   "metadata": {},
   "source": [
    "### Set up"
   ]
  },
  {
   "cell_type": "code",
   "execution_count": 130,
   "metadata": {
    "collapsed": false
   },
   "outputs": [],
   "source": [
    "from pymarketcap import *  \n",
    "import json\n",
    "import pprint\n",
    "import pandas as pd\n",
    "from datetime import datetime, timedelta \n",
    "from bs4 import BeautifulSoup\n",
    "import urllib\n",
    "import time\n",
    "import logging\n",
    "from apscheduler.schedulers.blocking import BlockingScheduler\n",
    "pd.options.display.float_format = '{:20,.2f}'.format\n",
    "#Used for saving files\n",
    "moment=time.strftime(\"%Y-%b-%d__%H_%M_%S\",time.localtime())\n",
    "\n",
    "#Connects to coinmarketcap API\n",
    "coinmarketcap = Pymarketcap()\n",
    "\n",
    "#Used for todays date\n",
    "today = pd.Timestamp(\"today\").strftime(\"%m/%d/%Y\")\n",
    "hh = pd.Timestamp(\"today\").strftime(\"%H\")\n",
    "mm = pd.Timestamp(\"today\").strftime(\"%M\")\n"
   ]
  },
  {
   "cell_type": "markdown",
   "metadata": {},
   "source": [
    "### Define function that allows replacement for new coin date added"
   ]
  },
  {
   "cell_type": "code",
   "execution_count": 131,
   "metadata": {
    "collapsed": true
   },
   "outputs": [],
   "source": [
    "def setdate(x):\n",
    "    if len(x) == 5 or len(x) == 7:\n",
    "        return datetime.today().strftime(\"%m/%d/%Y\")\n",
    "    elif len(x) == 8:\n",
    "        newDate = datetime.today() - timedelta(days=int(x[:1]))\n",
    "        return newDate.strftime(\"%m/%d/%Y\")\n",
    "    else:\n",
    "        newDate = datetime.today() - timedelta(days=int(x[:2]))\n",
    "        return newDate.strftime(\"%m/%d/%Y\")"
   ]
  },
  {
   "cell_type": "markdown",
   "metadata": {},
   "source": [
    "### Coinmarketcap statistics"
   ]
  },
  {
   "cell_type": "code",
   "execution_count": 132,
   "metadata": {
    "collapsed": false
   },
   "outputs": [],
   "source": [
    "try:\n",
    "    #Bring data into stats\n",
    "    stats = json.loads(coinmarketcap.stats(VERBOSE=True))\n",
    "\n",
    "    #bring data into csv\n",
    "    stats = pd.DataFrame(statistics)\n",
    "\n",
    "    #add 'Today' column\n",
    "    stats['Date'] = today\n",
    "    stats['Hour'] = hh\n",
    "    stats['Minute'] = mm\n",
    "\n",
    "    #Save CSV\n",
    "    stats.to_csv('Coinmarketcap/stats_'+moment+'.csv', sep=',') \n",
    "except:\n",
    "    pass"
   ]
  },
  {
   "cell_type": "markdown",
   "metadata": {},
   "source": [
    "### Coin Data"
   ]
  },
  {
   "cell_type": "code",
   "execution_count": 133,
   "metadata": {
    "collapsed": false
   },
   "outputs": [],
   "source": [
    "try:\n",
    "    #Bring data into coinsdata\n",
    "    ticker = json.loads(coinmarketcap.ticker(VERBOSE=True))\n",
    "\n",
    "    #bring data into csv\n",
    "    ticker = pd.DataFrame(ticker)\n",
    "\n",
    "    #add 'Today' 'Hour' and 'minutes' column\n",
    "    ticker['Date'] = today\n",
    "    ticker['Hour'] = hh\n",
    "    ticker['Minute'] = mm\n",
    "\n",
    "    ticker\n",
    "    #Save CSV\n",
    "    ticker.to_csv('Coinmarketcap/coins_'+moment+'.csv', sep=',')  \n",
    "except:\n",
    "    pass\n"
   ]
  },
  {
   "cell_type": "markdown",
   "metadata": {},
   "source": [
    "### Each coin's exchanges info"
   ]
  },
  {
   "cell_type": "code",
   "execution_count": 134,
   "metadata": {
    "collapsed": false
   },
   "outputs": [],
   "source": [
    "for coin2 in ticker['symbol']:\n",
    "    try: \n",
    "        #Bring data into coinsdata\n",
    "        markets = json.loads(coinmarketcap.markets(coin2,VERBOSE=True))\n",
    "\n",
    "        #bring data into csv\n",
    "        markets = pd.DataFrame(markets)\n",
    "\n",
    "        #add 'Today' 'Hour' and 'minutes' column\n",
    "        markets['Date'] = today\n",
    "        markets['Hour'] = hh\n",
    "        markets['Minute'] = mm\n",
    "\n",
    "\n",
    "        #Save CSV\n",
    "        markets.to_csv('Coinmarketcap/markets_'+coin2+\"_\"+moment+'.csv', 'w') \n",
    "    except:\n",
    "        pass"
   ]
  },
  {
   "cell_type": "markdown",
   "metadata": {},
   "source": [
    "### Ranks for coins"
   ]
  },
  {
   "cell_type": "code",
   "execution_count": 135,
   "metadata": {
    "collapsed": true
   },
   "outputs": [],
   "source": [
    "try: \n",
    "    #You can pass '7d', '24h', '1h', 'gainers' and 'losers' for filter responses:\n",
    "    #coinmarketcap.ranks('gainers', '1h', V=True)\n",
    "    #Bring data into coinsdata\n",
    "    ranks = json.loads(coinmarketcap.ranks(V=True))\n",
    "\n",
    "    #bring data into csv\n",
    "    ranks = pd.DataFrame(ranks)\n",
    "\n",
    "    #add 'Today' 'Hour' and 'minutes' column\n",
    "    ranks['Date'] = today\n",
    "    ranks['Hour'] = hh\n",
    "    ranks['Minute'] = mm\n",
    "\n",
    "\n",
    "    #Save CSV\n",
    "    markets.to_csv('Coinmarketcap/ranks_'+moment+'.csv', 'w')\n",
    "except:\n",
    "    pass"
   ]
  },
  {
   "cell_type": "markdown",
   "metadata": {},
   "source": []
  },
  {
   "cell_type": "code",
   "execution_count": null,
   "metadata": {
    "collapsed": true
   },
   "outputs": [],
   "source": [
    "# ### New coins\n",
    "\n",
    "# In[ ]:\n",
    "\n",
    "#Grabs new coins from coinmarket cap and saves as CSV\n",
    "\n",
    "def new_coin(): \n",
    "    moment=time.strftime(\"%Y-%b-%d__%H_%M_%S\",time.localtime())\n",
    "    r = urllib.urlopen('http://coinmarketcap.com/new/').read()\n",
    "    soup = BeautifulSoup(r, \"lxml\")\n",
    "    col = soup.find('tr').find_all('td')\n",
    "    for c in col:\n",
    "        print(c.get_text())\n",
    "    final_list = []\n",
    "    tr = soup.findChildren('tr') \n",
    "    final_list = []\n",
    "    for t in tr:  \n",
    "        td = t.findChildren('td')  \n",
    "        coin_list = []\n",
    "        for child in td:\n",
    "            coin_list.append(child.text.replace('\\n', '').strip().replace(\" \", \"\"))\n",
    "        if coin_list != []:\n",
    "            final_list.append(coin_list)\n",
    "\n",
    "    data = pd.DataFrame(final_list, columns = [\"Name\",\"Symbol\", \"Added\", \"Market Cap\",\"Price\",\"Circulating Supply\",\"Volume (24h)\", \"% 24h\"])        \n",
    "    data[\"Added\"] = data[\"Added\"].apply(lambda x: setdate(x))\n",
    "    data['Date'] = today\n",
    "    data['Hour'] = hh\n",
    "    data['Minute'] = mm\n",
    "    data.to_csv('Coinmarketcap/new_'+moment+'.csv', sep=',')  \n",
    "\n",
    "new_coin()\n",
    "\n",
    "\n",
    "\n",
    "\n",
    "\n",
    "\n",
    "\n"
   ]
  },
  {
   "cell_type": "code",
   "execution_count": 10,
   "metadata": {
    "collapsed": false
   },
   "outputs": [],
   "source": [
    "# ### Run block scheduler    \n",
    "\n",
    "# In[ ]:\n",
    "\n",
    "scheduler = BlockingScheduler()\n",
    "scheduler.add_job(new_coin, 'interval', minutes=60, id=\"coin\")\n",
    "scheduler.add_job(grab_info, 'interval', minutes=60, id=\"info\")\n",
    "scheduler.start()\n",
    "#while True:\n",
    " #   time.sleep(60)\n",
    "#sched.shutdown()"
   ]
  },
  {
   "cell_type": "code",
   "execution_count": 17,
   "metadata": {
    "collapsed": false
   },
   "outputs": [],
   "source": []
  },
  {
   "cell_type": "code",
   "execution_count": 29,
   "metadata": {
    "collapsed": false
   },
   "outputs": [],
   "source": []
  },
  {
   "cell_type": "code",
   "execution_count": 30,
   "metadata": {
    "collapsed": false
   },
   "outputs": [],
   "source": []
  },
  {
   "cell_type": "code",
   "execution_count": null,
   "metadata": {
    "collapsed": false
   },
   "outputs": [],
   "source": []
  },
  {
   "cell_type": "code",
   "execution_count": null,
   "metadata": {
    "collapsed": false
   },
   "outputs": [],
   "source": []
  },
  {
   "cell_type": "code",
   "execution_count": null,
   "metadata": {
    "collapsed": true
   },
   "outputs": [],
   "source": []
  }
 ],
 "metadata": {
  "anaconda-cloud": {},
  "kernelspec": {
   "display_name": "Python [conda root]",
   "language": "python",
   "name": "conda-root-py"
  },
  "language_info": {
   "codemirror_mode": {
    "name": "ipython",
    "version": 2
   },
   "file_extension": ".py",
   "mimetype": "text/x-python",
   "name": "python",
   "nbconvert_exporter": "python",
   "pygments_lexer": "ipython2",
   "version": "2.7.13"
  }
 },
 "nbformat": 4,
 "nbformat_minor": 2
}
